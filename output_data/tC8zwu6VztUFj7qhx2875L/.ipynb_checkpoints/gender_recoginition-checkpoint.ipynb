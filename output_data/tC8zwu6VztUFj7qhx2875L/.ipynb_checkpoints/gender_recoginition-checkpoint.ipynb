{
 "cells": [
  {
   "cell_type": "code",
   "execution_count": null,
   "metadata": {},
   "outputs": [],
   "source": [
    "from utils import get_meta\n",
    "import numpy as np\n",
    "import pandas as pd\n",
    "from matplotlib import pyplot as plt\n",
    "import os\n",
    "import cv2\n",
    "%matplotlib inline\n",
    "from tqdm import tqdm\n",
    "from sklearn.cross_validation import train_test_split\n",
    "\n",
    "from tflearn.data_utils import shuffle, to_categorical\n",
    "from tflearn.data_preprocessing import ImagePreprocessing\n",
    "from tflearn.data_augmentation import ImageAugmentation\n",
    "\n",
    "plt.style.use('ggplot')\n"
   ]
  },
  {
   "cell_type": "code",
   "execution_count": null,
   "metadata": {},
   "outputs": [],
   "source": [
    "db='wiki'\n",
    "# mat_path='/home/geekysethi/Desktop/age-and-gender/age-and-gender/data/wiki_crop/wiki.mat'\n",
    "mat_path='/data/wiki_crop/wiki.mat'\n",
    "full_path, dob, gender, photo_taken, face_score, second_face_score, age= get_meta(mat_path, db)\n",
    "\n",
    "temp_dataframe={\"full_path\":full_path,'gender':gender,'face_score':face_score,'second_face_score':second_face_score,'age':age}\n",
    "df=pd.DataFrame(temp_dataframe)\n",
    "print(df.head())\n",
    "# train_dir='/home/geekysethi/Desktop/age-and-gender/age-and-gender/data/wiki_crop/'\n",
    "train_dir='/data/wiki_crop/'\n",
    "\n",
    "img_size=32\n",
    "LR=1e-3\n",
    "model_name='ageandgender-{}-{}.model'.format(LR,'2conv_basic')\n"
   ]
  },
  {
   "cell_type": "code",
   "execution_count": null,
   "metadata": {},
   "outputs": [],
   "source": [
    "path=[]\n",
    "type(df.full_path)\n",
    "for i in df.full_path:\n",
    "    i=str(i)[2:-2]\n",
    "    path.append(os.path.join(train_dir,str(i)))\n",
    "print(path[:10])    "
   ]
  },
  {
   "cell_type": "code",
   "execution_count": null,
   "metadata": {},
   "outputs": [],
   "source": [
    "df.full_path=path\n",
    "df.head()"
   ]
  },
  {
   "cell_type": "code",
   "execution_count": null,
   "metadata": {},
   "outputs": [],
   "source": [
    "def show_images(path):\n",
    "    fig=plt.figure()\n",
    "    for num, img_no in enumerate(path[:12]):\n",
    "        y=fig.add_subplot(3,4,num+1)\n",
    "        img=cv2.imread(img_no,3)\n",
    "        y.imshow(cv2.cvtColor(img, cv2.COLOR_BGR2RGB))\n",
    "        y.axes.get_xaxis().set_visible(False)\n",
    "        y.axes.get_yaxis().set_visible(False)\n",
    "\n",
    "    \n",
    "show_images(path) "
   ]
  },
  {
   "cell_type": "code",
   "execution_count": null,
   "metadata": {},
   "outputs": [],
   "source": [
    "print(df.head())\n",
    "print(df.isnull().values.any())\n",
    "print(df.gender.isnull().sum())\n",
    "df.drop(df[df.gender.isnull()==True].index,inplace=True)\n",
    "print(df.gender.isnull().sum())\n",
    "print(df.head())\n",
    "df[df.face_score<0]=np.nan\n",
    "df.drop(df[df.face_score.isnull()==True].index,inplace=True)\n",
    "print(df.head())"
   ]
  },
  {
   "cell_type": "code",
   "execution_count": null,
   "metadata": {},
   "outputs": [],
   "source": [
    "df.hist()\n",
    "plt.plot"
   ]
  },
  {
   "cell_type": "code",
   "execution_count": null,
   "metadata": {
    "collapsed": true
   },
   "outputs": [],
   "source": [
    "data_0=(df.full_path[df.gender==0])[:10000]\n",
    "data_1=shuffle(df.full_path[df.gender==1])\n",
    "data_1=data_1[0][:10000]"
   ]
  },
  {
   "cell_type": "code",
   "execution_count": null,
   "metadata": {
    "collapsed": true
   },
   "outputs": [],
   "source": []
  },
  {
   "cell_type": "code",
   "execution_count": null,
   "metadata": {},
   "outputs": [],
   "source": [
    "print(len(data_0))\n",
    "print(len(data_1))\n",
    "\n",
    "n_files=len(data_0)+len(data_1)\n",
    "print(n_files)\n",
    "\n",
    "allX = np.zeros((n_files, img_size, img_size, 3), dtype='float64')\n",
    "ally = np.zeros(n_files)\n",
    "count=0\n",
    "\n",
    "for f in tqdm(data_0):\n",
    "    img=cv2.imread(f,1)\n",
    "    img=cv2.resize(img,(img_size,img_size))\n",
    "    allX[count]=np.array(img)\n",
    "    ally[count]=0\n",
    "    count+=1\n",
    "    \n",
    "for f in tqdm(data_1):\n",
    "    img=cv2.imread(f,1)\n",
    "    img=cv2.resize(img,(img_size,img_size))\n",
    "    allX[count]=np.array(img)\n",
    "    ally[count]=1\n",
    "    count+=1\n",
    "\n",
    "# np.save('training_data_gender.npy',allX,ally)\n",
    "\n"
   ]
  },
  {
   "cell_type": "code",
   "execution_count": null,
   "metadata": {},
   "outputs": [],
   "source": [
    "print(np.shape(allX))\n",
    "print(np.shape(ally))\n"
   ]
  },
  {
   "cell_type": "code",
   "execution_count": null,
   "metadata": {},
   "outputs": [],
   "source": [
    "allX,ally=shuffle(allX,ally)\n",
    "X, X_test, Y, Y_test = train_test_split(allX, ally, test_size=0.2, random_state=42)\n",
    "X, Y = shuffle(X, Y) \n",
    "Y = to_categorical(Y, 2)\n",
    "Y_test = to_categorical(Y_test, 2)\n",
    "\n",
    "print(np.shape(X))\n",
    "print(type(X))\n",
    "print(np.shape(Y))\n",
    "# print(X[:10])"
   ]
  },
  {
   "cell_type": "code",
   "execution_count": null,
   "metadata": {
    "collapsed": true
   },
   "outputs": [],
   "source": [
    "img_prep = ImagePreprocessing()\n",
    "img_prep.add_featurewise_zero_center()\n",
    "img_prep.add_featurewise_stdnorm()\n",
    "\n",
    "# Create extra synthetic training data by flipping & rotating images\n",
    "img_aug = ImageAugmentation()\n",
    "img_aug.add_random_flip_leftright()\n",
    "img_aug.add_random_rotation(max_angle=25.)"
   ]
  },
  {
   "cell_type": "code",
   "execution_count": null,
   "metadata": {},
   "outputs": [],
   "source": [
    "###################################\n",
    "# Define network architecture\n",
    "###################################\n",
    "import tflearn\n",
    "from tflearn.layers.conv import conv_2d, max_pool_2d\n",
    "from tflearn.layers.core import input_data, dropout, fully_connected\n",
    "from tflearn.layers.estimator import regression\n",
    "from tflearn.metrics import Accuracy\n",
    "\n",
    "# Input is a 32x32 image with 3 color channels (red, green and blue)\n",
    "network = input_data(shape=[None, img_size, img_size, 3],\n",
    "                     data_preprocessing=img_prep,\n",
    "                     data_augmentation=img_aug,name='')\n",
    "\n",
    "\n",
    "# network = input_data(shape=[None, img_size, img_size, 3],name='input')\n",
    "\n",
    "# 1: Convolution layer with 32 filters, each 3x3x3\n",
    "conv_1 = conv_2d(network, 32, 3, activation='relu', name='conv_1')\n",
    "\n",
    "# 2: Max pooling layer\n",
    "network = max_pool_2d(conv_1, 2)\n",
    "\n",
    "# 3: Convolution layer with 64 filters\n",
    "conv_2 = conv_2d(network, 64, 3, activation='relu', name='conv_2')\n",
    "\n",
    "# 4: Convolution layer with 64 filters\n",
    "conv_3 = conv_2d(conv_2, 64, 3, activation='relu', name='conv_3')\n",
    "\n",
    "# 5: Max pooling layer\n",
    "network = max_pool_2d(conv_3, 2)\n",
    "\n",
    "# 6: Fully-connected 512 node layer\n",
    "network = fully_connected(network, 512, activation='relu')\n",
    "\n",
    "# 7: Dropout layer to combat overfitting\n",
    "network = dropout(network, 0.5)\n",
    "\n",
    "# 8: Fully-connected layer with two outputs\n",
    "network = fully_connected(network, 2, activation='softmax')\n",
    "\n",
    "# Configure how the network will be trained\n",
    "acc = Accuracy(name=\"Accuracy\")\n",
    "network = regression(network, optimizer='adam',\n",
    "                     loss='categorical_crossentropy',\n",
    "                     learning_rate=0.0005, metric=acc)\n",
    "\n",
    "# Wrap the network in a model object\n",
    "model = tflearn.DNN(network,tensorboard_verbose = 3, tensorboard_dir='tmp/tflearn_logs/')\n",
    "\n",
    "###################################\n",
    "# Train model for 100 epochs\n",
    "###################################\n",
    "model.fit(X, Y, validation_set=(X_test, Y_test), batch_size=500,\n",
    "      n_epoch=10, run_id=model_name, show_metric=True)\n",
    "\n",
    "model.save(model_name)\n"
   ]
  },
  {
   "cell_type": "code",
   "execution_count": null,
   "metadata": {
    "collapsed": true
   },
   "outputs": [],
   "source": [
    "# network = input_data(shape=[None, 32, 32, 3],\n",
    "#                      data_preprocessing=img_prep,\n",
    "#                      data_augmentation=img_aug)\n",
    "# network = conv_2d(network, 32, 3, activation='relu')\n",
    "# network = max_pool_2d(network, 2)\n",
    "# network = conv_2d(network, 64, 3, activation='relu')\n",
    "# network = conv_2d(network, 64, 3, activation='relu')\n",
    "# network = max_pool_2d(network, 2)\n",
    "# network = fully_connected(network, 512, activation='relu')\n",
    "# network = dropout(network, 0.5)\n",
    "# network = fully_connected(network, 2, activation='softmax')\n",
    "# network = regression(network, optimizer='adam',\n",
    "#                      loss='categorical_crossentropy',\n",
    "#                      learning_rate=0.001)\n",
    "\n",
    "# # Train using classifier\n",
    "# model = tflearn.DNN(network, tensorboard_verbose=0)\n",
    "# model.fit(X, Y, n_epoch=50, shuffle=True, validation_set=(X_test, Y_test),\n",
    "#           show_metric=True, batch_size=96, run_id='cifar10_cnn')\n"
   ]
  },
  {
   "cell_type": "code",
   "execution_count": null,
   "metadata": {
    "collapsed": true
   },
   "outputs": [],
   "source": []
  }
 ],
 "metadata": {
  "kernelspec": {
   "display_name": "Python 3",
   "language": "python",
   "name": "python3"
  },
  "language_info": {
   "codemirror_mode": {
    "name": "ipython",
    "version": 3
   },
   "file_extension": ".py",
   "mimetype": "text/x-python",
   "name": "python",
   "nbconvert_exporter": "python",
   "pygments_lexer": "ipython3",
   "version": "3.5.3"
  }
 },
 "nbformat": 4,
 "nbformat_minor": 2
}
