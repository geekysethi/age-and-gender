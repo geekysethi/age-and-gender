{
 "cells": [
  {
   "cell_type": "code",
   "execution_count": 18,
   "metadata": {},
   "outputs": [
    {
     "name": "stdout",
     "output_type": "stream",
     "text": [
      "   age  face_score                                       full_path  gender  \\\n",
      "0   69    1.459693   [01/nm0000001_rm124825600_1899-5-10_1968.jpg]     1.0   \n",
      "1   71    2.543198  [01/nm0000001_rm3343756032_1899-5-10_1970.jpg]     1.0   \n",
      "2   69    3.455579   [01/nm0000001_rm577153792_1899-5-10_1968.jpg]     1.0   \n",
      "3   69    1.872117   [01/nm0000001_rm946909184_1899-5-10_1968.jpg]     1.0   \n",
      "4   69    1.158766   [01/nm0000001_rm980463616_1899-5-10_1968.jpg]     1.0   \n",
      "\n",
      "   second_face_score  \n",
      "0           1.118973  \n",
      "1           1.852008  \n",
      "2           2.985660  \n",
      "3                NaN  \n",
      "4                NaN  \n"
     ]
    }
   ],
   "source": [
    "from utils import get_meta\n",
    "import numpy as np\n",
    "import pandas as pd\n",
    "from matplotlib import pyplot as plt\n",
    "import os\n",
    "import cv2\n",
    "# get_ipython().run_line_magic('matplotlib', 'inline')\n",
    "from tqdm import tqdm\n",
    "from tflearn.data_utils import shuffle, to_categorical\n",
    "\n",
    "\n",
    "db='imdb'\n",
    "# mat_path='/data/wiki_crop/wiki.mat'\n",
    "mat_path='/home/geekysethi/Desktop/age-and-gender/imdb/imdb.mat'\n",
    "full_path, dob, gender, photo_taken, face_score, second_face_score, age= get_meta(mat_path, db)\n",
    "\n",
    "temp_dataframe={\"full_path\":full_path,'gender':gender,'face_score':face_score,'second_face_score':second_face_score,'age':age}\n",
    "df=pd.DataFrame(temp_dataframe)\n",
    "print(df.head())\n",
    "# train_dir='/data/wiki_crop/'\n"
   ]
  },
  {
   "cell_type": "code",
   "execution_count": 19,
   "metadata": {},
   "outputs": [
    {
     "name": "stdout",
     "output_type": "stream",
     "text": [
      "460723\n"
     ]
    }
   ],
   "source": [
    "print(len(df))"
   ]
  },
  {
   "cell_type": "code",
   "execution_count": 20,
   "metadata": {},
   "outputs": [
    {
     "name": "stdout",
     "output_type": "stream",
     "text": [
      "   age  face_score                                       full_path  gender  \\\n",
      "0   69    1.459693   [01/nm0000001_rm124825600_1899-5-10_1968.jpg]     1.0   \n",
      "1   71    2.543198  [01/nm0000001_rm3343756032_1899-5-10_1970.jpg]     1.0   \n",
      "2   69    3.455579   [01/nm0000001_rm577153792_1899-5-10_1968.jpg]     1.0   \n",
      "3   69    1.872117   [01/nm0000001_rm946909184_1899-5-10_1968.jpg]     1.0   \n",
      "4   69    1.158766   [01/nm0000001_rm980463616_1899-5-10_1968.jpg]     1.0   \n",
      "\n",
      "   second_face_score  \n",
      "0           1.118973  \n",
      "1           1.852008  \n",
      "2           2.985660  \n",
      "3                NaN  \n",
      "4                NaN  \n",
      "True\n",
      "8462\n",
      "0\n",
      "   age  face_score                                       full_path  gender  \\\n",
      "0   69    1.459693   [01/nm0000001_rm124825600_1899-5-10_1968.jpg]     1.0   \n",
      "1   71    2.543198  [01/nm0000001_rm3343756032_1899-5-10_1970.jpg]     1.0   \n",
      "2   69    3.455579   [01/nm0000001_rm577153792_1899-5-10_1968.jpg]     1.0   \n",
      "3   69    1.872117   [01/nm0000001_rm946909184_1899-5-10_1968.jpg]     1.0   \n",
      "4   69    1.158766   [01/nm0000001_rm980463616_1899-5-10_1968.jpg]     1.0   \n",
      "\n",
      "   second_face_score  \n",
      "0           1.118973  \n",
      "1           1.852008  \n",
      "2           2.985660  \n",
      "3                NaN  \n",
      "4                NaN  \n",
      "    age  face_score                                       full_path  gender  \\\n",
      "0  69.0    1.459693   [01/nm0000001_rm124825600_1899-5-10_1968.jpg]     1.0   \n",
      "1  71.0    2.543198  [01/nm0000001_rm3343756032_1899-5-10_1970.jpg]     1.0   \n",
      "2  69.0    3.455579   [01/nm0000001_rm577153792_1899-5-10_1968.jpg]     1.0   \n",
      "3  69.0    1.872117   [01/nm0000001_rm946909184_1899-5-10_1968.jpg]     1.0   \n",
      "4  69.0    1.158766   [01/nm0000001_rm980463616_1899-5-10_1968.jpg]     1.0   \n",
      "\n",
      "   second_face_score  \n",
      "0           1.118973  \n",
      "1           1.852008  \n",
      "2           2.985660  \n",
      "3                NaN  \n",
      "4                NaN  \n",
      "391197\n"
     ]
    }
   ],
   "source": [
    "print(df.head())\n",
    "print(df.isnull().values.any())\n",
    "print(df.gender.isnull().sum())\n",
    "df.drop(df[df.gender.isnull()==True].index,inplace=True)\n",
    "print(df.gender.isnull().sum())\n",
    "print(df.head())\n",
    "df[df.face_score<0]=np.nan\n",
    "df.drop(df[df.face_score.isnull()==True].index,inplace=True)\n",
    "print(df.head())\n",
    "print(len(df))"
   ]
  },
  {
   "cell_type": "code",
   "execution_count": 21,
   "metadata": {},
   "outputs": [
    {
     "name": "stdout",
     "output_type": "stream",
     "text": [
      "1.0    223874\n",
      "0.0    167323\n",
      "Name: gender, dtype: int64\n"
     ]
    }
   ],
   "source": [
    "print(df.gender.value_counts())"
   ]
  },
  {
   "cell_type": "code",
   "execution_count": 29,
   "metadata": {},
   "outputs": [
    {
     "name": "stdout",
     "output_type": "stream",
     "text": [
      "<class 'numpy.ndarray'>\n"
     ]
    }
   ],
   "source": [
    "gender=df.gender.values\n",
    "print(type(gender))"
   ]
  },
  {
   "cell_type": "code",
   "execution_count": 33,
   "metadata": {},
   "outputs": [],
   "source": [
    "# gender=shuffle(gender)\n",
    "# # print(type(gender))\n",
    "# print(gender[:10])\n",
    "# print(len(gender))"
   ]
  },
  {
   "cell_type": "code",
   "execution_count": 34,
   "metadata": {},
   "outputs": [],
   "source": [
    "gender=gender[:20000]"
   ]
  },
  {
   "cell_type": "code",
   "execution_count": 35,
   "metadata": {},
   "outputs": [
    {
     "name": "stdout",
     "output_type": "stream",
     "text": [
      "[ 6238 13762]\n"
     ]
    }
   ],
   "source": [
    "unique, counts = np.unique(gender, return_counts=True)\n",
    "print(counts)\n"
   ]
  },
  {
   "cell_type": "code",
   "execution_count": null,
   "metadata": {},
   "outputs": [],
   "source": []
  }
 ],
 "metadata": {
  "kernelspec": {
   "display_name": "Python 3",
   "language": "python",
   "name": "python3"
  },
  "language_info": {
   "codemirror_mode": {
    "name": "ipython",
    "version": 3
   },
   "file_extension": ".py",
   "mimetype": "text/x-python",
   "name": "python",
   "nbconvert_exporter": "python",
   "pygments_lexer": "ipython3",
   "version": "3.5.2"
  }
 },
 "nbformat": 4,
 "nbformat_minor": 2
}
